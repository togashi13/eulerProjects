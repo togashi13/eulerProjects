{
 "cells": [
  {
   "cell_type": "code",
   "execution_count": 53,
   "id": "4b1c2dbe-39e5-41d0-a9d4-fdb28620e8ba",
   "metadata": {},
   "outputs": [],
   "source": [
    "l = [ 1, 2 ]\n",
    "for i in range( 1, 98 ):\n",
    "    if i % 3 == 0:\n",
    "        l.append( ( i // 3 + 1 ) * 2 )\n",
    "    else:\n",
    "        l.append( 1 )\n",
    "s = Fraction( l[ -1 ], 1 )\n"
   ]
  },
  {
   "cell_type": "code",
   "execution_count": 55,
   "id": "60a4e673-a017-43d2-b3bc-e0dc54c4f2f7",
   "metadata": {},
   "outputs": [],
   "source": [
    "for i in reversed( range( 98 ) ):\n",
    "    k = l[ i ]\n",
    "    s = 1 / s + k  "
   ]
  },
  {
   "cell_type": "code",
   "execution_count": 64,
   "id": "e510441a-00ae-4772-a430-7999caf5b1fd",
   "metadata": {},
   "outputs": [
    {
     "data": {
      "text/plain": [
       "272"
      ]
     },
     "execution_count": 64,
     "metadata": {},
     "output_type": "execute_result"
    }
   ],
   "source": [
    "res = 0\n",
    "for i in str( ( 1 / s + 2 ).numerator ):\n",
    "    res += int( i )\n",
    "res"
   ]
  },
  {
   "cell_type": "code",
   "execution_count": null,
   "id": "0f55f418-e31f-48ac-976a-a3976e4bb8bd",
   "metadata": {},
   "outputs": [],
   "source": [
    "#include <iostream>\n",
    "#include <math.h>\n",
    "using namespace std;\n",
    "\n",
    "int main() {\n",
    "    int ct = 0;\n",
    "    for ( int i = 2; i < 100; i++)\n",
    "    {\n",
    "        int limit = floor( sqrt( i ) );\n",
    "\n",
    "        int a = limit, m = 0, d = 1, period = 0;\n",
    "        if ( limit * limit == i )   continue;\n",
    "        do\n",
    "        {\n",
    "            m = d * a - m;\n",
    "            d = ( i - m * m ) / d;\n",
    "            a = ( limit + m ) / d;\n",
    "            period ++;\n",
    "        }\n",
    "        while ( a != 2 * limit );\n",
    "        if ( period % 2 == 1)   ct ++;\n",
    "    }\n",
    "    cout << ct << endl;\n",
    "    return 0;\n",
    "}\n"
   ]
  },
  {
   "cell_type": "code",
   "execution_count": 18,
   "id": "3c79b591-7ae2-4adb-b9c3-a1c2f867912a",
   "metadata": {},
   "outputs": [
    {
     "data": {
      "text/plain": [
       "array([0., 2., 2., 2., 2., 2., 2., 2., 2., 2., 2., 2., 2., 2., 2., 2., 2.,\n",
       "       2., 2., 2., 2., 2., 2., 2., 2., 2., 2., 2., 2., 2., 2., 2., 2., 2.,\n",
       "       2., 2., 2., 2., 2., 2., 2., 2., 2., 2., 2., 2., 2., 2., 2., 2., 2.,\n",
       "       2., 2., 2., 2., 2., 2., 2., 2., 2., 2., 2., 2., 2., 2., 2., 2., 2.,\n",
       "       2., 2., 2., 2., 2., 2., 2., 2., 2., 2., 2., 2., 2., 2., 2., 2., 2.,\n",
       "       2., 2., 2., 2., 2., 2., 2., 2., 2., 2., 2., 2., 2., 2., 2.])"
      ]
     },
     "execution_count": 18,
     "metadata": {},
     "output_type": "execute_result"
    }
   ],
   "source": [
    "ct = 0\n",
    "le = 100\n",
    "l = np.zeros( le )\n",
    "i = math.exp( 1 )\n",
    "limit = math.floor( math.sqrt( i ) )\n",
    "a = limit\n",
    "m = 0\n",
    "d = 1\n",
    "period = 0\n",
    "while True:\n",
    "    m = d * a - m\n",
    "    d = ( i - m * m ) // d\n",
    "    a = ( limit + m ) // d\n",
    "    period += 1\n",
    "    l[ period ] = a\n",
    "    if ( period == 99 ):\n",
    "        break\n",
    "\n",
    "l"
   ]
  },
  {
   "cell_type": "code",
   "execution_count": 26,
   "id": "6bc076db-6855-4d63-b762-ee56075fb8da",
   "metadata": {},
   "outputs": [],
   "source": [
    "import math\n",
    "import numpy as np\n",
    "from fractions import Fraction\n",
    "\n"
   ]
  },
  {
   "cell_type": "code",
   "execution_count": 15,
   "id": "d4419e29-2aa4-4c28-a49f-b25fb2401310",
   "metadata": {},
   "outputs": [
    {
     "data": {
      "text/plain": [
       "1"
      ]
     },
     "execution_count": 15,
     "metadata": {},
     "output_type": "execute_result"
    }
   ],
   "source": [
    "math.floor( math.sqrt( math.exp( 1 ) ) )"
   ]
  },
  {
   "cell_type": "code",
   "execution_count": 20,
   "id": "7e30400b-ea2e-4160-b646-26d07bc22116",
   "metadata": {},
   "outputs": [
    {
     "data": {
      "text/plain": [
       "1.0"
      ]
     },
     "execution_count": 20,
     "metadata": {},
     "output_type": "execute_result"
    }
   ],
   "source": [
    "1.7 // 1"
   ]
  },
  {
   "cell_type": "code",
   "execution_count": 39,
   "id": "45694b04-9ccc-4a9c-8a15-4cd1a9349b0e",
   "metadata": {},
   "outputs": [],
   "source": [
    "ma = Fraction( 1, 4 ) + Fraction( 1, 4 )"
   ]
  },
  {
   "cell_type": "code",
   "execution_count": 41,
   "id": "09773cc7-0ad9-4860-800f-6ef1963d73b0",
   "metadata": {},
   "outputs": [
    {
     "data": {
      "text/plain": [
       "1"
      ]
     },
     "execution_count": 41,
     "metadata": {},
     "output_type": "execute_result"
    }
   ],
   "source": [
    "ma.numerator"
   ]
  },
  {
   "cell_type": "code",
   "execution_count": 44,
   "id": "0a2618cf-a5eb-4f44-975f-8afcae17c3ff",
   "metadata": {},
   "outputs": [
    {
     "data": {
      "text/plain": [
       "Fraction(5, 2)"
      ]
     },
     "execution_count": 44,
     "metadata": {},
     "output_type": "execute_result"
    }
   ],
   "source": [
    "ma + 2"
   ]
  },
  {
   "cell_type": "code",
   "execution_count": null,
   "id": "13db6e0a-eef9-49dd-8896-6a2a5dfc270a",
   "metadata": {},
   "outputs": [],
   "source": []
  }
 ],
 "metadata": {
  "kernelspec": {
   "display_name": "Python 3 (ipykernel)",
   "language": "python",
   "name": "python3"
  },
  "language_info": {
   "codemirror_mode": {
    "name": "ipython",
    "version": 3
   },
   "file_extension": ".py",
   "mimetype": "text/x-python",
   "name": "python",
   "nbconvert_exporter": "python",
   "pygments_lexer": "ipython3",
   "version": "3.8.8"
  }
 },
 "nbformat": 4,
 "nbformat_minor": 5
}
