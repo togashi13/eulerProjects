{
 "cells": [
  {
   "cell_type": "code",
   "execution_count": 1,
   "id": "76245d43-802f-4681-812e-54422f2b8a16",
   "metadata": {},
   "outputs": [],
   "source": [
    "import itertools\n",
    "l_tri = []\n",
    "for i in itertools.count(45):\n",
    "    x = i*(i+1)//2 \n",
    "    if 1000 < x < 10000:\n",
    "        l_tri.append(x)\n",
    "    if x > 10000:\n",
    "        break"
   ]
  },
  {
   "cell_type": "code",
   "execution_count": 2,
   "id": "703d6cf0-5741-4495-8165-0b962845ba2c",
   "metadata": {},
   "outputs": [],
   "source": [
    "l_sq = []\n",
    "for i in itertools.count(15):\n",
    "    x = i*i\n",
    "    if 1000 < x < 10000:\n",
    "        l_sq.append(x)\n",
    "    if x > 10000:\n",
    "        break"
   ]
  },
  {
   "cell_type": "code",
   "execution_count": 3,
   "id": "8f49f859-6ab4-43de-9195-b00cc0e8ac4f",
   "metadata": {},
   "outputs": [],
   "source": [
    "l_pen = []\n",
    "for i in itertools.count(15):\n",
    "    x = i*(3*i-1)//2 \n",
    "    if 1000 < x < 10000:\n",
    "        l_pen.append(x)\n",
    "    if x > 10000:\n",
    "        break"
   ]
  },
  {
   "cell_type": "code",
   "execution_count": 4,
   "id": "56d55811-686b-4de2-b752-b111f6603248",
   "metadata": {},
   "outputs": [],
   "source": [
    "l_hex = []\n",
    "for i in itertools.count(15):\n",
    "    x = i*(2*i-1)\n",
    "    if 1000 < x < 10000:\n",
    "        l_hex.append(x)\n",
    "    if x > 10000:\n",
    "        break"
   ]
  },
  {
   "cell_type": "code",
   "execution_count": 5,
   "id": "0845fb35-4e8c-4a5c-bf81-b83a68266fa2",
   "metadata": {},
   "outputs": [],
   "source": [
    "l_hep = []\n",
    "for i in itertools.count(18):\n",
    "    x = i*(5*i-3)//2 \n",
    "    if 1000 < x < 10000:\n",
    "        l_hep.append(x)\n",
    "    if x > 10000:\n",
    "        break"
   ]
  },
  {
   "cell_type": "code",
   "execution_count": 6,
   "id": "e3c84706-6a09-431c-848b-4aff6523d538",
   "metadata": {},
   "outputs": [],
   "source": [
    "l_oct = []\n",
    "for i in itertools.count(17):\n",
    "    x = i*(3*i-2) \n",
    "    if 1000 < x < 10000:\n",
    "        l_oct.append(x)\n",
    "    if x > 10000:\n",
    "        break"
   ]
  },
  {
   "cell_type": "code",
   "execution_count": 177,
   "id": "9adf3695-3d6a-42b9-9dc1-555c6d100768",
   "metadata": {},
   "outputs": [],
   "source": [
    "def find_cyclic(l,n):\n",
    "    li = []\n",
    "    end_num = n[2:4]\n",
    "    for c in l:\n",
    "        \n",
    "        if end_num == c[0:2]:\n",
    "            if c[2] != '0':\n",
    "                li.append(c)\n",
    "        if c[0:2] > end_num:\n",
    "            break\n",
    "    return li"
   ]
  },
  {
   "cell_type": "code",
   "execution_count": 12,
   "id": "d69c59fd-ff24-4727-86c2-d9cbb9c64465",
   "metadata": {},
   "outputs": [],
   "source": [
    "def find_set_cyclic(last,length):\n",
    "    for i in range(len(solution)):\n",
    "        if solution[i] != 0:\n",
    "            continue\n",
    "        for j in all_poly[i]:\n",
    "            if any([j == sol for sol in solution]):\n",
    "                continue\n",
    "            if solution[last]%100 == j//100:\n",
    "                solution[i] = j\n",
    "                if (length == 5):\n",
    "                    if solution[5]//100 == solution[i]%100:\n",
    "                        return True\n",
    "                if find_set_cyclic(i, length+1):\n",
    "                    return True\n",
    "        solution[i] = 0\n",
    "    return False\n",
    "                \n",
    "            "
   ]
  },
  {
   "cell_type": "code",
   "execution_count": 14,
   "id": "9c6274f7-619f-4bb8-bcb7-a680812e57fa",
   "metadata": {},
   "outputs": [
    {
     "name": "stdout",
     "output_type": "stream",
     "text": [
      "28684\n"
     ]
    }
   ],
   "source": [
    "solution = [0]*6\n",
    "all_poly = [l_tri,l_sq,l_pen, l_hex,l_hep,l_oct]\n",
    "for start in l_oct:\n",
    "    solution[5] = start\n",
    "    if find_set_cyclic(5,1):\n",
    "        break\n",
    "print(sum(solution))\n",
    "\n",
    "\n"
   ]
  },
  {
   "cell_type": "code",
   "execution_count": 9,
   "id": "41e2607c-06d9-4e94-b7dd-5e7ea1f7f3db",
   "metadata": {},
   "outputs": [
    {
     "data": {
      "text/plain": [
       "1160"
      ]
     },
     "execution_count": 9,
     "metadata": {},
     "output_type": "execute_result"
    }
   ],
   "source": [
    "l_oct.pop(0)"
   ]
  },
  {
   "cell_type": "code",
   "execution_count": 11,
   "id": "cdc73c34-0428-43e1-a475-9a821451957f",
   "metadata": {},
   "outputs": [
    {
     "data": {
      "text/plain": [
       "51.31"
      ]
     },
     "execution_count": 11,
     "metadata": {},
     "output_type": "execute_result"
    }
   ],
   "source": [
    "5131/100"
   ]
  },
  {
   "cell_type": "code",
   "execution_count": null,
   "id": "02fbcb7b-ccfa-4ffa-97fe-d1f90c19814e",
   "metadata": {},
   "outputs": [],
   "source": []
  }
 ],
 "metadata": {
  "kernelspec": {
   "display_name": "Python 3 (ipykernel)",
   "language": "python",
   "name": "python3"
  },
  "language_info": {
   "codemirror_mode": {
    "name": "ipython",
    "version": 3
   },
   "file_extension": ".py",
   "mimetype": "text/x-python",
   "name": "python",
   "nbconvert_exporter": "python",
   "pygments_lexer": "ipython3",
   "version": "3.8.8"
  }
 },
 "nbformat": 4,
 "nbformat_minor": 5
}
