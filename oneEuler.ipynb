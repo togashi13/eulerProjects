{
 "cells": [
  {
   "cell_type": "code",
   "execution_count": 1,
   "id": "86351fd7-a9a4-4477-a1ed-7ea616e58861",
   "metadata": {},
   "outputs": [],
   "source": [
    "import itertools\n",
    "l_tri = []\n",
    "for i in itertools.count(45):\n",
    "    x = i*(i+1)//2 \n",
    "    if 1000 < x < 10000:\n",
    "        l_tri.append(str(x))\n",
    "    if x > 10000:\n",
    "        break\n",
    "l_sq = []\n",
    "for i in itertools.count(15):\n",
    "    x = i*i\n",
    "    if 1000 < x < 10000:\n",
    "        l_sq.append(str(x))\n",
    "    if x > 10000:\n",
    "        break\n",
    "l_pen = []\n",
    "for i in itertools.count(15):\n",
    "    x = i*(3*i-1)//2 \n",
    "    if 1000 < x < 10000:\n",
    "        l_pen.append(str(x))\n",
    "    if x > 10000:\n",
    "        break\n",
    "l_hex = []\n",
    "for i in itertools.count(15):\n",
    "    x = i*(2*i-1)\n",
    "    if 1000 < x < 10000:\n",
    "        l_hex.append(str(x))\n",
    "    if x > 10000:\n",
    "        break\n",
    "l_hep = []\n",
    "for i in itertools.count(18):\n",
    "    x = i*(5*i-3)//2 \n",
    "    if 1000 < x < 10000:\n",
    "        l_hep.append(str(x))\n",
    "    if x > 10000:\n",
    "        break\n",
    "l_oct = []\n",
    "for i in itertools.count(17):\n",
    "    x = i*(3*i-2) \n",
    "    if 1000 < x < 10000:\n",
    "        l_oct.append(str(x))\n",
    "    if x > 10000:\n",
    "        break\n",
    "def find_cyclic(l,n):\n",
    "    li = []\n",
    "    end_num = n[2:4]\n",
    "    for c in l:\n",
    "        \n",
    "        if end_num == c[0:2]:\n",
    "            if c[2] != '0':\n",
    "                li.append(c)\n",
    "        if c[0:2] > end_num:\n",
    "            break\n",
    "    return li\n",
    "def find_set_cyclic(prefix,rest_poly):\n",
    "    if len(prefix) == 6:\n",
    "        return sum(prefix)\n",
    "    if len(prefix) != 0:\n",
    "        start = prefix[-1]  \n",
    "    else:\n",
    "        start = l_tri[0]\n",
    "        rest_poly.pop(in_rest(start,rest_poly))\n",
    "    for lis in rest_poly:\n",
    "        newl = find_cyclic(lis,start)\n",
    "        if newl:\n",
    "            for new_num in newl:\n",
    "                xd = in_rest(new_num,rest_poly)\n",
    "                if xd == None:                                    #xd could be a list\n",
    "                    prefix.append(new_num)\n",
    "                    rest_poly.pop(xd)\n",
    "                    res = find_set_cyclic(prefix,rest_poly)\n",
    "                    if res == None:\n",
    "                        continue\n",
    "                    \n",
    "    return None\n",
    "    "
   ]
  },
  {
   "cell_type": "code",
   "execution_count": 2,
   "id": "84aa65e8-77cb-4164-9519-cda4a0f70048",
   "metadata": {},
   "outputs": [],
   "source": [
    "def in_rest(n,lis):\n",
    "    for (ind,liss) in enumerate(lis):\n",
    "        if n in liss:\n",
    "            return ind\n",
    "    return None"
   ]
  },
  {
   "cell_type": "code",
   "execution_count": 4,
   "id": "3d696f2c-771b-4c9d-b5e3-8eb315483d68",
   "metadata": {},
   "outputs": [
    {
     "data": {
      "text/plain": [
       "1"
      ]
     },
     "execution_count": 4,
     "metadata": {},
     "output_type": "execute_result"
    }
   ],
   "source": [
    "in_rest('3577',[l_sq,l_pen, l_hex,l_hep,l_oct])"
   ]
  },
  {
   "cell_type": "code",
   "execution_count": 11,
   "id": "962ca696-29b0-461e-ad4b-a02e2467d6c3",
   "metadata": {},
   "outputs": [],
   "source": [
    "import math\n",
    "x = math.log(2,365/364)"
   ]
  },
  {
   "cell_type": "code",
   "execution_count": 14,
   "id": "c7ebba6c-40e5-4ee5-8f93-c643ad34c5f9",
   "metadata": {},
   "outputs": [
    {
     "data": {
      "text/plain": [
       "0.5004771540365807"
      ]
     },
     "execution_count": 14,
     "metadata": {},
     "output_type": "execute_result"
    }
   ],
   "source": [
    "1-(364/365)**math.ceil(x)"
   ]
  },
  {
   "cell_type": "code",
   "execution_count": 15,
   "id": "f195a87a-0436-42a7-9f6c-5711e60134d1",
   "metadata": {},
   "outputs": [
    {
     "data": {
      "text/plain": [
       "253"
      ]
     },
     "execution_count": 15,
     "metadata": {},
     "output_type": "execute_result"
    }
   ],
   "source": [
    "math.ceil(x)\n"
   ]
  },
  {
   "cell_type": "code",
   "execution_count": null,
   "id": "34c2e946-3a4d-42d7-9f3a-f2f50b5d950b",
   "metadata": {},
   "outputs": [],
   "source": []
  }
 ],
 "metadata": {
  "kernelspec": {
   "display_name": "Python 3 (ipykernel)",
   "language": "python",
   "name": "python3"
  },
  "language_info": {
   "codemirror_mode": {
    "name": "ipython",
    "version": 3
   },
   "file_extension": ".py",
   "mimetype": "text/x-python",
   "name": "python",
   "nbconvert_exporter": "python",
   "pygments_lexer": "ipython3",
   "version": "3.8.8"
  }
 },
 "nbformat": 4,
 "nbformat_minor": 5
}
